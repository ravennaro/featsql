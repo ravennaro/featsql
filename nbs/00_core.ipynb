{
 "cells": [
  {
   "cell_type": "markdown",
   "metadata": {},
   "source": [
    "# core\n",
    "\n",
    "> Fill in a module description here"
   ]
  },
  {
   "cell_type": "code",
   "execution_count": 1,
   "metadata": {},
   "outputs": [],
   "source": [
    "#| default_exp core"
   ]
  },
  {
   "cell_type": "code",
   "execution_count": 2,
   "metadata": {},
   "outputs": [],
   "source": [
    "#| hide\n",
    "from nbdev.showdoc import *"
   ]
  },
  {
   "cell_type": "markdown",
   "metadata": {},
   "source": [
    "## Variáveis numéricas"
   ]
  },
  {
   "cell_type": "code",
   "execution_count": 3,
   "metadata": {},
   "outputs": [],
   "source": [
    "#| export\n",
    "def func_query_janela_num(lista_janela, feat_num_lista, id, safra_ref, target, tb_feat, safra):\n",
    "    query_janela = \"\"\n",
    "    lista_vars = \"\"\n",
    "\n",
    "    for n in lista_janela:\n",
    "        query_variaveis_numericas=\"\"\n",
    "        for i in feat_num_lista:\n",
    "            query_variaveis_numericas +=f\"\"\"\n",
    "             -- Criação de variáveis numéricas a partir da coluna {i} para a janela {n}\n",
    "            SUM(COALESCE({tb_feat}.{i},0)) AS {i}_SUM_{n}M,\n",
    "            MIN(COALESCE({tb_feat}.{i},0)) AS {i}_MIN_{n}M,\n",
    "            MAX(COALESCE({tb_feat}.{i},0)) AS {i}_MAX_{n}M,\n",
    "            AVG(COALESCE({tb_feat}.{i},0)) AS {i}_AGV_{n}M,\n",
    "            \"\"\"\n",
    "            lista_vars += f\"\"\"\n",
    "            tb_join.{i}_SUM_{n}M,\n",
    "            tb_join.{i}_MIN_{n}M,\n",
    "            tb_join.{i}_MAX_{n}M,\n",
    "            tb_join.{i}_AGV_{n}M,\n",
    "            \"\"\"\n",
    "        query_variaveis_numericas = query_variaveis_numericas.rstrip(', \\n')\n",
    "\n",
    "        query_janela += f\"\"\"\n",
    "        -- Criação de variáveis de janela de {n}M\n",
    "        tb_janela_{n}M as(\n",
    "            SELECT \n",
    "                tb_public.{id},\n",
    "                tb_public.{safra_ref},\n",
    "                tb_public.{target},\n",
    "                {query_variaveis_numericas}\n",
    "\n",
    "            FROM tb_public\n",
    "            LEFT JOIN {tb_feat} \n",
    "            ON  tb_public.{id} = tb_feat.{id}\n",
    "            AND (strftime('%Y-%m-%d', date({tb_feat}.{safra}, '+{n} months')) >= tb_public.{safra_ref})\n",
    "                AND ({tb_feat}.{safra} < tb_public.{safra_ref})\n",
    "            GROUP BY tb_public.{id}, tb_public.{safra_ref}\n",
    "        ),\n",
    "        \"\"\"\n",
    "    lista_vars = lista_vars.rstrip(', \\n')\n",
    "    return query_janela, lista_vars"
   ]
  },
  {
   "cell_type": "code",
   "execution_count": 4,
   "metadata": {},
   "outputs": [],
   "source": [
    "#| export\n",
    "def func_query_join_num(lista_janela, id, safra_ref):\n",
    "    query_join= \"\"\n",
    "    for i in lista_janela:\n",
    "        query_join += f\"\"\"\n",
    "        LEFT JOIN tb_janela_{i}M\n",
    "            ON tb_public.{id} = tb_janela_{i}M.{id}\n",
    "            AND tb_public.{safra_ref} = tb_janela_{i}M.{safra_ref}\n",
    "    \"\"\"\n",
    "    return query_join"
   ]
  },
  {
   "cell_type": "code",
   "execution_count": 5,
   "metadata": {},
   "outputs": [],
   "source": [
    "#| export\n",
    "def create_query_num(tb_publico, tb_feat, lista_janela,feat_num_lista, id, safra_ref, target, safra):\n",
    "    \n",
    "    query_janela, lista_var = func_query_janela_num(lista_janela, feat_num_lista, id, safra_ref, target, tb_feat, safra)\n",
    "    query_num = f\"\"\"\n",
    "    WITH \n",
    "    tb_public AS (\n",
    "        SELECT \n",
    "            *\n",
    "        FROM {tb_publico}\n",
    "    ),\n",
    "    {query_janela}\n",
    "\n",
    "    tb_join AS (\n",
    "        SELECT \n",
    "            *\n",
    "        FROM tb_public \n",
    "        {func_query_join_num(lista_janela, id, safra_ref)}\n",
    "    )\n",
    "        \n",
    "    SELECT \n",
    "        tb_join.{id},\n",
    "        tb_join.{safra_ref},\n",
    "        tb_join.{target},\n",
    "        {lista_var}\n",
    "    FROM tb_join\n",
    "    \"\"\"\n",
    "    return query_num"
   ]
  },
  {
   "cell_type": "markdown",
   "metadata": {},
   "source": [
    "## Variáveis categóricas"
   ]
  },
  {
   "cell_type": "code",
   "execution_count": 6,
   "metadata": {},
   "outputs": [],
   "source": [
    "#| export\n",
    "def func_query_janela_cat(lista_janela, feat_cat_lista, id, safra_ref, target, tb_feat, safra):\n",
    "  \n",
    "    vars_cat = \"\"\n",
    "    query_janela_cat = \"\"\n",
    "    join_moda = \"\"\n",
    "    for n in lista_janela:\n",
    "        for i in feat_cat_lista:\n",
    "            query_janela_cat += f\"\"\"\n",
    "    tb_janela_{i}_{n}M as(\n",
    "        SELECT\n",
    "            tb_public.{id},\n",
    "            tb_public.{safra_ref},\n",
    "            tb_public.{target},\n",
    "            {tb_feat}.{i},\n",
    "            COUNT(*) AS frequency_{i}\n",
    "        FROM tb_public\n",
    "        LEFT JOIN {tb_feat}\n",
    "        ON tb_public.{id} = {tb_feat}.{id}\n",
    "            AND (strftime('%Y-%m-%d', date({tb_feat}.{safra}, '+{n} months')) >= tb_public.{safra_ref})\n",
    "            AND ({tb_feat}.{safra} < tb_public.{safra_ref})\n",
    "        GROUP BY tb_public.{id}, tb_public.{safra_ref}, {tb_feat}.{i}\n",
    "    ),\n",
    "\n",
    "    tb_row_{i}_{n}M as (\n",
    "        SELECT \n",
    "            *,    \n",
    "            ROW_NUMBER() OVER (\n",
    "                PARTITION BY \n",
    "                    {id},\n",
    "                    {safra_ref}        \n",
    "                    ORDER BY frequency_{i} DESC\n",
    "            ) as row_num_{i}_{n}M\n",
    "        FROM tb_janela_{i}_{n}M\n",
    "    ),\n",
    "    \n",
    "    tb_moda_{i}_{n}M AS(\n",
    "        SELECT\n",
    "            tb_row_{i}_{n}M .{id},\n",
    "            tb_row_{i}_{n}M .{safra_ref},\n",
    "            tb_row_{i}_{n}M.{target},\n",
    "            tb_row_{i}_{n}M.{i} AS {i}_MODA_{n}M\n",
    "        FROM tb_row_{i}_{n}M \n",
    "        WHERE row_num_{i}_{n}M = 1\n",
    "    ),\n",
    "\"\"\"\n",
    "            vars_cat +=f\"\"\"\n",
    "        tb_moda_{i}_{n}M.{i}_MODA_{n}M,\n",
    "                 \"\"\"\n",
    "            join_moda +=f\"\"\"\n",
    "    LEFT JOIN tb_moda_{i}_{n}M \n",
    "    ON tb_moda_{i}_{n}M.{id} = tb_public.{id}\n",
    "    AND tb_moda_{i}_{n}M.{safra_ref} = tb_public.{safra_ref}\n",
    "\"\"\"\n",
    "    vars_cat = vars_cat.rstrip(', \\n')\n",
    "    query_janela_cat = query_janela_cat.rstrip(', \\n')\n",
    "    return query_janela_cat, vars_cat, join_moda"
   ]
  },
  {
   "cell_type": "code",
   "execution_count": 7,
   "metadata": {},
   "outputs": [],
   "source": [
    "#| export\n",
    "def create_query_cat(tb_publico, tb_feat, lista_janela,feat_cat_lista, id, safra_ref, target, safra):\n",
    "    query_janela_cat, lista_vars, join_moda  = func_query_janela_cat(lista_janela, feat_cat_lista, id, safra_ref, target, tb_feat, safra)\n",
    "\n",
    "    query_num_cat = f\"\"\"\n",
    "    WITH \n",
    "    tb_public as (\n",
    "        SELECT \n",
    "            {id},\n",
    "            {safra_ref},\n",
    "            {target}\n",
    "        FROM {tb_publico}\n",
    "    ),\n",
    "    {query_janela_cat}\n",
    "\n",
    "    SELECT \n",
    "        tb_public.{id},\n",
    "        tb_public.{safra_ref},\n",
    "        tb_public.{target},\n",
    "        {lista_vars}\n",
    "    FROM tb_public\n",
    "    {join_moda}\n",
    "    \"\"\"\n",
    "    return query_num_cat"
   ]
  },
  {
   "cell_type": "code",
   "execution_count": 8,
   "metadata": {},
   "outputs": [],
   "source": [
    "#| hide\n",
    "import nbdev; nbdev.nbdev_export()"
   ]
  },
  {
   "cell_type": "code",
   "execution_count": null,
   "metadata": {},
   "outputs": [],
   "source": []
  }
 ],
 "metadata": {
  "kernelspec": {
   "display_name": ".venv",
   "language": "python",
   "name": ".venv"
  },
  "language_info": {
   "codemirror_mode": {
    "name": "ipython",
    "version": 3
   },
   "file_extension": ".py",
   "mimetype": "text/x-python",
   "name": "python",
   "nbconvert_exporter": "python",
   "pygments_lexer": "ipython3",
   "version": "3.10.12"
  }
 },
 "nbformat": 4,
 "nbformat_minor": 4
}
