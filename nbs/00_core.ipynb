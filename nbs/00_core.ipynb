{
 "cells": [
  {
   "cell_type": "markdown",
   "metadata": {},
   "source": [
    "# core\n",
    "\n",
    "> Fill in a module description here"
   ]
  },
  {
   "cell_type": "code",
   "execution_count": null,
   "metadata": {},
   "outputs": [],
   "source": [
    "#| default_exp core"
   ]
  },
  {
   "cell_type": "code",
   "execution_count": null,
   "metadata": {},
   "outputs": [],
   "source": [
    "#| hide\n",
    "from nbdev.showdoc import *"
   ]
  },
  {
   "cell_type": "code",
   "execution_count": null,
   "metadata": {},
   "outputs": [],
   "source": [
    "#| export\n",
    "def func_query_janela(lista_janela, feat_num_lista, id, safra_ref, target, tb_feat, safra):\n",
    "    query_janela = \"\"\n",
    "    lista_vars = \"\"\n",
    "\n",
    "    for n in lista_janela:\n",
    "        query_variaveis_numericas=\"\"\n",
    "        for i in feat_num_lista:\n",
    "            query_variaveis_numericas +=f\"\"\"\n",
    "             -- Criação de variáveis numéricas a partir da coluna {i} para a janela {n}\n",
    "            SUM(COALESCE({tb_feat}.{i},0)) AS {i}_SUM_{n}M,\n",
    "            MIN(COALESCE({tb_feat}.{i},0)) AS {i}_MIN_{n}M,\n",
    "            MAX(COALESCE({tb_feat}.{i},0)) AS {i}_MAX_{n}M,\n",
    "            AVG(COALESCE({tb_feat}.{i},0)) AS {i}_AGV_{n}M,\n",
    "            \"\"\"\n",
    "            lista_vars += f\"\"\"\n",
    "            tb_join.{i}_SUM_{n}M,\n",
    "            tb_join.{i}_MIN_{n}M,\n",
    "            tb_join.{i}_MAX_{n}M,\n",
    "            tb_join.{i}_AGV_{n}M,\n",
    "            \"\"\"\n",
    "        query_variaveis_numericas = query_variaveis_numericas.rstrip(', \\n')\n",
    "\n",
    "        query_janela += f\"\"\"\n",
    "        -- Criação de variáveis de janela de {n}M\n",
    "        tb_janela_{n}M as(\n",
    "            SELECT \n",
    "                tb_public.{id},\n",
    "                tb_public.{safra_ref},\n",
    "                tb_public.{target},\n",
    "                {query_variaveis_numericas}\n",
    "\n",
    "            FROM tb_public\n",
    "            LEFT JOIN {tb_feat} \n",
    "            ON  tb_public.{id} = tb_feat.{id}\n",
    "            AND (strftime('%Y-%m-%d', date({tb_feat}.{safra}, '+{n} months')) >= tb_public.{safra_ref})\n",
    "                AND ({tb_feat}.{safra} < tb_public.{safra_ref})\n",
    "            GROUP BY tb_public.{id}, tb_public.{safra_ref}\n",
    "        ),\n",
    "        \"\"\"\n",
    "    lista_vars = lista_vars.rstrip(', \\n')\n",
    "    return query_janela, lista_vars"
   ]
  },
  {
   "cell_type": "code",
   "execution_count": null,
   "metadata": {},
   "outputs": [],
   "source": [
    "#| export\n",
    "def func_query_join(lista_janela, id, safra_ref):\n",
    "    query_join= \"\"\n",
    "    for i in lista_janela:\n",
    "        query_join += f\"\"\"\n",
    "        LEFT JOIN tb_janela_{i}M\n",
    "            ON tb_public.{id} = tb_janela_{i}M.{id}\n",
    "            AND tb_public.{safra_ref} = tb_janela_{i}M.{safra_ref}\n",
    "    \"\"\"\n",
    "    return query_join"
   ]
  },
  {
   "cell_type": "code",
   "execution_count": null,
   "metadata": {},
   "outputs": [],
   "source": [
    "#| export\n",
    "def func_query_final(tb_publico, lista_janela,feat_num_lista, id, safra_ref, target, tb_feat, safra):\n",
    "    \n",
    "    query_janela, lista_var = func_query_janela(lista_janela, feat_num_lista, id, safra_ref, target, tb_feat, safra)\n",
    "    query_final = f\"\"\"\n",
    "    with \n",
    "    tb_public as (\n",
    "        SELECT \n",
    "            *\n",
    "        FROM {tb_publico}\n",
    "    ),\n",
    "    {query_janela}\n",
    "\n",
    "    tb_join as (\n",
    "        SELECT \n",
    "            *\n",
    "        FROM tb_public \n",
    "        {func_query_join(lista_janela, id, safra_ref)}\n",
    "    )\n",
    "        \n",
    "    SELECT \n",
    "        tb_join.{id},\n",
    "        tb_join.{safra_ref},\n",
    "        tb_join.{target},\n",
    "        {lista_var}\n",
    "    FROM tb_join\n",
    "    \"\"\"\n",
    "    return query_final"
   ]
  },
  {
   "cell_type": "code",
   "execution_count": null,
   "metadata": {},
   "outputs": [],
   "source": [
    "#| hide\n",
    "import nbdev; nbdev.nbdev_export()"
   ]
  },
  {
   "cell_type": "code",
   "execution_count": null,
   "metadata": {},
   "outputs": [],
   "source": []
  }
 ],
 "metadata": {
  "kernelspec": {
   "display_name": ".venv",
   "language": "python",
   "name": ".venv"
  }
 },
 "nbformat": 4,
 "nbformat_minor": 4
}
